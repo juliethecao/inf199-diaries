{
 "cells": [
  {
   "cell_type": "code",
   "execution_count": null,
   "id": "813f5b5e-7d3b-4be9-b99f-e77eb49acf74",
   "metadata": {},
   "outputs": [
    {
     "ename": "",
     "evalue": "",
     "output_type": "error",
     "traceback": [
      "\u001b[1;31mFailed to start the Kernel. \n",
      "\u001b[1;31mBad file descriptor (C:\\Users\\runneradmin\\AppData\\Local\\Temp\\tmpw8fxpxar\\build\\_deps\\bundled_libzmq-src\\src\\epoll.cpp:73). \n",
      "\u001b[1;31mView Jupyter <a href='command:jupyter.viewOutput'>log</a> for further details."
     ]
    }
   ],
   "source": [
    "import csv\n",
    "import pandas as pd"
   ]
  },
  {
   "cell_type": "code",
   "execution_count": null,
   "id": "2ac66b94-9a4c-4ac2-937a-b51860a8b434",
   "metadata": {},
   "outputs": [
    {
     "ename": "",
     "evalue": "",
     "output_type": "error",
     "traceback": [
      "\u001b[1;31mFailed to start the Kernel. \n",
      "\u001b[1;31mBad file descriptor (C:\\Users\\runneradmin\\AppData\\Local\\Temp\\tmpw8fxpxar\\build\\_deps\\bundled_libzmq-src\\src\\epoll.cpp:73). \n",
      "\u001b[1;31mView Jupyter <a href='command:jupyter.viewOutput'>log</a> for further details."
     ]
    }
   ],
   "source": [
    "df=pd.read_csv(\"diaries-master.csv\", header=[0,1])"
   ]
  },
  {
   "cell_type": "code",
   "execution_count": null,
   "id": "d95c8912-06e5-4be4-8e53-12a6555f36f1",
   "metadata": {},
   "outputs": [
    {
     "ename": "",
     "evalue": "",
     "output_type": "error",
     "traceback": [
      "\u001b[1;31mFailed to start the Kernel. \n",
      "\u001b[1;31mBad file descriptor (C:\\Users\\runneradmin\\AppData\\Local\\Temp\\tmpw8fxpxar\\build\\_deps\\bundled_libzmq-src\\src\\epoll.cpp:73). \n",
      "\u001b[1;31mView Jupyter <a href='command:jupyter.viewOutput'>log</a> for further details."
     ]
    }
   ],
   "source": [
    "df"
   ]
  },
  {
   "cell_type": "code",
   "execution_count": null,
   "id": "d0c467dc-45ef-4098-91d0-6911cb875b87",
   "metadata": {},
   "outputs": [
    {
     "ename": "",
     "evalue": "",
     "output_type": "error",
     "traceback": [
      "\u001b[1;31mFailed to start the Kernel. \n",
      "\u001b[1;31mBad file descriptor (C:\\Users\\runneradmin\\AppData\\Local\\Temp\\tmpw8fxpxar\\build\\_deps\\bundled_libzmq-src\\src\\epoll.cpp:73). \n",
      "\u001b[1;31mView Jupyter <a href='command:jupyter.viewOutput'>log</a> for further details."
     ]
    }
   ],
   "source": [
    "def create_table(df, start_index, end_index):\n",
    "    \"\"\"\n",
    "    create a dataframe for a table using the specified start and end indices\n",
    "    \n",
    "    Args:\n",
    "    - df: dataframe containing the data\n",
    "    - start_index: Starting index of the table\n",
    "    - end_index: Ending index of the table\n",
    "    \n",
    "    Returns:\n",
    "    - dataframe for the specified table\n",
    "    \"\"\"\n",
    "    # header = df.iloc[start_index]\n",
    "    table_df = df.iloc[start_index:end_index] \n",
    "    table_df.columns = [day_name] + [col[1] for col in table_df.columns[1:]]\n",
    "    return table_df\n",
    "\n",
    "table_ranges = [\n",
    "    (0, 18),  # table 1: monday\n",
    "    (21, 39),  # table 2: tuesday\n",
    "    (42, 60),  # table 3: wednesday\n",
    "    (63, 81),  # table 4: thursday\n",
    "    (84, 102),  # table 5: friday\n",
    "    (105, 123)  # table 6: saturday\n",
    "]\n",
    "days = [\"Monday\", \"Tuesday\", \"Wednesday\", \"Thursday\", \"Friday\", \"Saturday\"]\n",
    "\n",
    "# create dict to store dfs for each table\n",
    "tables = {}\n",
    "\n",
    "# create dfs for each table\n",
    "for idx, (start, end) in enumerate(table_ranges, start=0):\n",
    "    table_name = days[idx-1]\n",
    "    table_df = create_table(df, start, end, table_name)\n",
    "    print(f\"Table Name: {table_name}\")\n",
    "    print(table_df)\n",
    "    print(\"\\n\")\n",
    "    tables[table_name] = table_df"
   ]
  },
  {
   "cell_type": "code",
   "execution_count": null,
   "id": "67245ac5-9112-4fe1-85c4-68a3a1c78108",
   "metadata": {},
   "outputs": [
    {
     "ename": "",
     "evalue": "",
     "output_type": "error",
     "traceback": [
      "\u001b[1;31mFailed to start the Kernel. \n",
      "\u001b[1;31mBad file descriptor (C:\\Users\\runneradmin\\AppData\\Local\\Temp\\tmpw8fxpxar\\build\\_deps\\bundled_libzmq-src\\src\\epoll.cpp:73). \n",
      "\u001b[1;31mView Jupyter <a href='command:jupyter.viewOutput'>log</a> for further details."
     ]
    }
   ],
   "source": []
  },
  {
   "cell_type": "code",
   "execution_count": null,
   "id": "1fb3556c-5125-4ff4-8bb9-4f8a2734329d",
   "metadata": {},
   "outputs": [
    {
     "ename": "",
     "evalue": "",
     "output_type": "error",
     "traceback": [
      "\u001b[1;31mFailed to start the Kernel. \n",
      "\u001b[1;31mBad file descriptor (C:\\Users\\runneradmin\\AppData\\Local\\Temp\\tmpw8fxpxar\\build\\_deps\\bundled_libzmq-src\\src\\epoll.cpp:73). \n",
      "\u001b[1;31mView Jupyter <a href='command:jupyter.viewOutput'>log</a> for further details."
     ]
    }
   ],
   "source": []
  }
 ],
 "metadata": {
  "kernelspec": {
   "display_name": "Python 3 (ipykernel)",
   "language": "python",
   "name": "python3"
  },
  "language_info": {
   "codemirror_mode": {
    "name": "ipython",
    "version": 3
   },
   "file_extension": ".py",
   "mimetype": "text/x-python",
   "name": "python",
   "nbconvert_exporter": "python",
   "pygments_lexer": "ipython3",
   "version": "3.11.9"
  }
 },
 "nbformat": 4,
 "nbformat_minor": 5
}
